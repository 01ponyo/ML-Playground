{
  "nbformat": 4,
  "nbformat_minor": 0,
  "metadata": {
    "colab": {
      "provenance": [],
      "authorship_tag": "ABX9TyNsE4sEsMF30lNH0CSipJPy",
      "include_colab_link": true
    },
    "kernelspec": {
      "name": "python3",
      "display_name": "Python 3"
    },
    "language_info": {
      "name": "python"
    }
  },
  "cells": [
    {
      "cell_type": "markdown",
      "metadata": {
        "id": "view-in-github",
        "colab_type": "text"
      },
      "source": [
        "<a href=\"https://colab.research.google.com/github/01ponyo/ML-Playground/blob/main/CNN_in_TF.ipynb\" target=\"_parent\"><img src=\"https://colab.research.google.com/assets/colab-badge.svg\" alt=\"Open In Colab\"/></a>"
      ]
    },
    {
      "cell_type": "markdown",
      "source": [
        "An implementation of a CNN in TensorFlow for differentiating between imeages with a cross and all other images.\n",
        "\n",
        "A binary classification problem."
      ],
      "metadata": {
        "id": "ElPDZAvInhSa"
      }
    },
    {
      "cell_type": "code",
      "execution_count": 1,
      "metadata": {
        "id": "vIQNrHorndog"
      },
      "outputs": [],
      "source": [
        "# Importing all necessary libraries\n",
        "import tensorflow as tf\n",
        "from tensorflow.keras.models import Sequential\n",
        "from tensorflow.keras.layers import Conv2D, MaxPooling2D, Flatten, Dense\n",
        "from tensorflow.keras.optimizers import Adam\n",
        "import numpy as np\n",
        "import matplotlib.pyplot as plt"
      ]
    },
    {
      "cell_type": "code",
      "source": [
        "# Setting seed for reproducibility\n",
        "np.random.seed(24)\n",
        "tf.random.set_seed(24)"
      ],
      "metadata": {
        "id": "cI40WJrFouQF"
      },
      "execution_count": 2,
      "outputs": []
    },
    {
      "cell_type": "markdown",
      "source": [
        "This simple implementation focuses on classifying images that are either a cross or not a cross."
      ],
      "metadata": {
        "id": "LRKWqqydo9ZW"
      }
    },
    {
      "cell_type": "code",
      "source": [
        "# Initiate a cross image\n",
        "# A simple 5x5 image of a cross is generated\n",
        "def generate_x_image():\n",
        "  return np.array([\n",
        "      [1, 0, 0, 0, 1],\n",
        "      [0, 1, 0, 1, 0],\n",
        "      [0, 0, 1, 0, 0],\n",
        "      [0, 1, 0, 1, 0],\n",
        "      [1, 0, 0, 0, 1]\n",
        "  ])"
      ],
      "metadata": {
        "id": "W-DF13QQo5wG"
      },
      "execution_count": 3,
      "outputs": []
    },
    {
      "cell_type": "code",
      "source": [
        "# Initiate another random 5x5 image\n",
        "def generate_not_x_image():\n",
        "  while True:\n",
        "    image = np.random.randint(2, size=(5, 5)) # low argument default to 0 and therefore is omitted. Upper bound '2' ensures that ony 0 and 1 will be used for image generation\n",
        "    if not np.array_equal(image, generate_x_image()):\n",
        "      return image"
      ],
      "metadata": {
        "id": "t9EF5oghpljV"
      },
      "execution_count": 4,
      "outputs": []
    },
    {
      "cell_type": "markdown",
      "source": [
        "# Dataset creation:\n",
        "\n",
        "A total of 1000 images will be randomly generated with a corresponding label 1 and 0 which stand for image being a cross and not."
      ],
      "metadata": {
        "id": "LuXO0d0nqwbd"
      }
    },
    {
      "cell_type": "code",
      "source": [
        "num_samples = 1000\n",
        "images = []\n",
        "labels = []\n",
        "\n",
        "for _ in range(num_samples):\n",
        "  if np.random.rand() > 0.5: # dataset is raoghly divided proportionally\n",
        "    images.append(generate_x_image())\n",
        "    labels.append(1)\n",
        "  else:\n",
        "    images.append(generate_not_x_image())\n",
        "    labels.append(0)\n",
        "\n",
        "\n",
        "images = np.array(images).reshape(-1, 5, 5, 1)\n",
        "labels = np.array(labels)"
      ],
      "metadata": {
        "id": "EcCh_neAqq7_"
      },
      "execution_count": 6,
      "outputs": []
    },
    {
      "cell_type": "code",
      "source": [
        "from sklearn.model_selection import train_test_split\n",
        "\n",
        "x_train, x_test, y_train, y_test = train_test_split(images, labels, test_size=0.2, random_state=24) # dataset is split in 80% training and 20% test\n",
        "x_train, x_val, y_train, y_val = train_test_split(x_train, y_train, test_size=0.2, random_state=24) # further division of the test set into the test and val"
      ],
      "metadata": {
        "id": "LUl_RqCbsIeo"
      },
      "execution_count": 18,
      "outputs": []
    },
    {
      "cell_type": "code",
      "source": [
        "# Dataset: glimpse in\n",
        "def display_sample_data(images, labels, num_samples=5):\n",
        "  plt.figure(figsize=(10, 2)) # create a new figure for plotting\n",
        "  for i in range(num_samples):\n",
        "    ax = plt.subplot(1, num_samples, i + 1)\n",
        "    plt.imshow(images[i].reshape(5, 5), cmap='gray_r') # reversed gray scale\n",
        "    plt.title(f\"Label: {labels[i]}\")\n",
        "    plt.axis('off') # no y and x axes\n",
        "  plt.show()"
      ],
      "metadata": {
        "id": "c_FnJLGosfA7"
      },
      "execution_count": 8,
      "outputs": []
    },
    {
      "cell_type": "code",
      "source": [
        "display_sample_data(x_train, y_train)"
      ],
      "metadata": {
        "colab": {
          "base_uri": "https://localhost:8080/",
          "height": 192
        },
        "id": "578AuAl9tvj_",
        "outputId": "65914194-a51f-4584-852b-ee17e5bcbcac"
      },
      "execution_count": 14,
      "outputs": [
        {
          "output_type": "display_data",
          "data": {
            "text/plain": [
              "<Figure size 1000x200 with 5 Axes>"
            ],
            "image/png": "[encoded data removed]"
          },
          "metadata": {}
        }
      ]
    },
    {
      "cell_type": "markdown",
      "source": [
        "# Building CNN model:\n",
        "\n",
        "Architecture:\n",
        "\n",
        "1st: Convolutional layer: applies four 3x3 filters to an input image to detect and creates four feature maps\n",
        "\n",
        "2d: Max-Pooling layer: reduces the dimensions of the feature maps, maling the model more efficient\n",
        "\n",
        "3d: Flatten layer: converts the 2D data into a 1D array, preparing it for the neural network\n",
        "\n",
        "4th: Hidden layer: fully connected hidden layer with three neurons all with ReLU activation functions\n",
        "\n",
        "5th: Output layer: a single neuron with a sigmoid activation function"
      ],
      "metadata": {
        "id": "SJLyATpAuM4m"
      }
    },
    {
      "cell_type": "code",
      "source": [
        "model = Sequential([\n",
        "    # 1st layer\n",
        "    Conv2D(filters=4, kernel_size=(3, 3), activation='relu', input_shape=(5, 5, 1)),\n",
        "    # 2nd layer\n",
        "    MaxPooling2D(pool_size=(2, 2)),\n",
        "    # 3d layer\n",
        "    Flatten(),\n",
        "    # 4th layer\n",
        "    Dense(units=3, activation='relu'),\n",
        "    # 5th layer\n",
        "    Dense(units=1, activation='sigmoid')\n",
        "])"
      ],
      "metadata": {
        "colab": {
          "base_uri": "https://localhost:8080/"
        },
        "id": "rAtirjrAuL_w",
        "outputId": "c1fe08c9-b296-430b-e2a9-282bd319814f"
      },
      "execution_count": 20,
      "outputs": [
        {
          "output_type": "stream",
          "name": "stderr",
          "text": [
            "/usr/local/lib/python3.11/dist-packages/keras/src/layers/convolutional/base_conv.py:107: UserWarning: Do not pass an `input_shape`/`input_dim` argument to a layer. When using Sequential models, prefer using an `Input(shape)` object as the first layer in the model instead.\n",
            "  super().__init__(activity_regularizer=activity_regularizer, **kwargs)\n"
          ]
        }
      ]
    },
    {
      "cell_type": "markdown",
      "source": [
        "Model compiling: determines how the model will learn"
      ],
      "metadata": {
        "id": "cZ3r4jjzweUQ"
      }
    },
    {
      "cell_type": "code",
      "source": [
        "model.compile(optimizer='adam', loss='binary_crossentropy', metrics=['accuracy'])"
      ],
      "metadata": {
        "id": "HfIuKoJfwj8H"
      },
      "execution_count": 21,
      "outputs": []
    },
    {
      "cell_type": "markdown",
      "source": [
        "# Model training"
      ],
      "metadata": {
        "id": "XwvdBkF7xLvg"
      }
    },
    {
      "cell_type": "code",
      "source": [
        "train = model.fit(x_train, y_train, epochs=10, validation_data=(x_val, y_val))"
      ],
      "metadata": {
        "colab": {
          "base_uri": "https://localhost:8080/"
        },
        "id": "TUnl-TEyxPGj",
        "outputId": "340471d6-e051-43bf-9458-be65a1ed466f"
      },
      "execution_count": 22,
      "outputs": [
        {
          "output_type": "stream",
          "name": "stdout",
          "text": [
            "Epoch 1/10\n",
            "\u001b[1m20/20\u001b[0m \u001b[32m━━━━━━━━━━━━━━━━━━━━\u001b[0m\u001b[37m\u001b[0m \u001b[1m2s\u001b[0m 14ms/step - accuracy: 0.5229 - loss: 0.6585 - val_accuracy: 0.4313 - val_loss: 0.6509\n",
            "Epoch 2/10\n",
            "\u001b[1m20/20\u001b[0m \u001b[32m━━━━━━━━━━━━━━━━━━━━\u001b[0m\u001b[37m\u001b[0m \u001b[1m0s\u001b[0m 5ms/step - accuracy: 0.5209 - loss: 0.6129 - val_accuracy: 0.4313 - val_loss: 0.6147\n",
            "Epoch 3/10\n",
            "\u001b[1m20/20\u001b[0m \u001b[32m━━━━━━━━━━━━━━━━━━━━\u001b[0m\u001b[37m\u001b[0m \u001b[1m0s\u001b[0m 5ms/step - accuracy: 0.5223 - loss: 0.5835 - val_accuracy: 0.9937 - val_loss: 0.5843\n",
            "Epoch 4/10\n",
            "\u001b[1m20/20\u001b[0m \u001b[32m━━━━━━━━━━━━━━━━━━━━\u001b[0m\u001b[37m\u001b[0m \u001b[1m0s\u001b[0m 7ms/step - accuracy: 0.9885 - loss: 0.5526 - val_accuracy: 0.9937 - val_loss: 0.5578\n",
            "Epoch 5/10\n",
            "\u001b[1m20/20\u001b[0m \u001b[32m━━━━━━━━━━━━━━━━━━━━\u001b[0m\u001b[37m\u001b[0m \u001b[1m0s\u001b[0m 7ms/step - accuracy: 0.9885 - loss: 0.5243 - val_accuracy: 0.9937 - val_loss: 0.5334\n",
            "Epoch 6/10\n",
            "\u001b[1m20/20\u001b[0m \u001b[32m━━━━━━━━━━━━━━━━━━━━\u001b[0m\u001b[37m\u001b[0m \u001b[1m0s\u001b[0m 5ms/step - accuracy: 0.9913 - loss: 0.4960 - val_accuracy: 0.9937 - val_loss: 0.5081\n",
            "Epoch 7/10\n",
            "\u001b[1m20/20\u001b[0m \u001b[32m━━━━━━━━━━━━━━━━━━━━\u001b[0m\u001b[37m\u001b[0m \u001b[1m0s\u001b[0m 5ms/step - accuracy: 0.9913 - loss: 0.4669 - val_accuracy: 0.9937 - val_loss: 0.4858\n",
            "Epoch 8/10\n",
            "\u001b[1m20/20\u001b[0m \u001b[32m━━━━━━━━━━━━━━━━━━━━\u001b[0m\u001b[37m\u001b[0m \u001b[1m0s\u001b[0m 5ms/step - accuracy: 0.9913 - loss: 0.4426 - val_accuracy: 0.9937 - val_loss: 0.4666\n",
            "Epoch 9/10\n",
            "\u001b[1m20/20\u001b[0m \u001b[32m━━━━━━━━━━━━━━━━━━━━\u001b[0m\u001b[37m\u001b[0m \u001b[1m0s\u001b[0m 5ms/step - accuracy: 0.9913 - loss: 0.4224 - val_accuracy: 0.9937 - val_loss: 0.4493\n",
            "Epoch 10/10\n",
            "\u001b[1m20/20\u001b[0m \u001b[32m━━━━━━━━━━━━━━━━━━━━\u001b[0m\u001b[37m\u001b[0m \u001b[1m0s\u001b[0m 5ms/step - accuracy: 0.9913 - loss: 0.4040 - val_accuracy: 0.9937 - val_loss: 0.4332\n"
          ]
        }
      ]
    },
    {
      "cell_type": "markdown",
      "source": [
        "#Model evaluation"
      ],
      "metadata": {
        "id": "HJfSBuVPxbxL"
      }
    },
    {
      "cell_type": "code",
      "source": [
        "loss, accuracy = model.evaluate(x_test, y_test)\n",
        "print(f'Test Accuracy: {accuracy * 100:.2f}%')"
      ],
      "metadata": {
        "colab": {
          "base_uri": "https://localhost:8080/"
        },
        "id": "vGoF2unexeIe",
        "outputId": "b8b43faa-90d4-4476-d57d-02b3282ea46e"
      },
      "execution_count": 23,
      "outputs": [
        {
          "output_type": "stream",
          "name": "stdout",
          "text": [
            "\u001b[1m7/7\u001b[0m \u001b[32m━━━━━━━━━━━━━━━━━━━━\u001b[0m\u001b[37m\u001b[0m \u001b[1m0s\u001b[0m 5ms/step - accuracy: 1.0000 - loss: 0.4080  \n",
            "Test Accuracy: 100.00%\n"
          ]
        }
      ]
    },
    {
      "cell_type": "markdown",
      "source": [
        "#Training process visualization"
      ],
      "metadata": {
        "id": "RmKhNW9pzvri"
      }
    },
    {
      "cell_type": "code",
      "source": [
        "plt.plot(train.history['accuracy'], label='Training Accuracy')\n",
        "plt.plot(train.history['val_accuracy'], label='Validation Accuracy')\n",
        "plt.xlabel('Epochs')\n",
        "plt.ylabel('Accuracy')\n",
        "plt.legend()\n",
        "plt.show()"
      ],
      "metadata": {
        "colab": {
          "base_uri": "https://localhost:8080/",
          "height": 449
        },
        "id": "7UHFFq1Lz0QX",
        "outputId": "399ed13e-c34f-4548-ff6e-040a9b0406aa"
      },
      "execution_count": 24,
      "outputs": [
        {
          "output_type": "display_data",
          "data": {
            "text/plain": [
              "<Figure size 640x480 with 1 Axes>"
            ],
            "image/png": "[encoded data removed]"
          },
          "metadata": {}
        }
      ]
    },
    {
      "cell_type": "markdown",
      "source": [
        "The [following tutorial](https://towardsdatascience.com/implementing-convolutional-neural-networks-in-tensorflow-bc1c4f00bd34/) has been followed to gain a first understanding of the CNN model."
      ],
      "metadata": {
        "id": "LohpfV_H0Gsc"
      }
    }
  ]
}